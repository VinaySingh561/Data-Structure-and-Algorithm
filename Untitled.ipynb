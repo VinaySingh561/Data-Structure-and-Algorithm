{
 "cells": [
  {
   "cell_type": "code",
   "execution_count": 18,
   "id": "b524698c",
   "metadata": {},
   "outputs": [],
   "source": [
    "def path(n,m):\n",
    "    x = 0\n",
    "    for i in range(n):\n",
    "        for j in range(m):\n",
    "            if ( i == n-1 & j == m-1):\n",
    "                if (n==m):\n",
    "                    return x -int(n/2)-1\n",
    "                else:\n",
    "                    return x\n",
    "            else:\n",
    "                x = x + 1\n",
    "            "
   ]
  },
  {
   "cell_type": "code",
   "execution_count": 19,
   "id": "48396b9a",
   "metadata": {},
   "outputs": [
    {
     "data": {
      "text/plain": [
       "6"
      ]
     },
     "execution_count": 19,
     "metadata": {},
     "output_type": "execute_result"
    }
   ],
   "source": [
    "path(3,3)"
   ]
  },
  {
   "cell_type": "code",
   "execution_count": 43,
   "id": "9972106b",
   "metadata": {},
   "outputs": [],
   "source": [
    "a = 4\n",
    "b = 14 \n",
    "c = 15 \n",
    "d = 22"
   ]
  },
  {
   "cell_type": "code",
   "execution_count": 48,
   "id": "d5594866",
   "metadata": {},
   "outputs": [
    {
     "data": {
      "text/plain": [
       "True"
      ]
     },
     "execution_count": 48,
     "metadata": {},
     "output_type": "execute_result"
    }
   ],
   "source": [
    "(a>b or c<d)"
   ]
  },
  {
   "cell_type": "code",
   "execution_count": 61,
   "id": "e08d09e3",
   "metadata": {},
   "outputs": [],
   "source": [
    "x= 1 and 10"
   ]
  },
  {
   "cell_type": "code",
   "execution_count": 62,
   "id": "55a842a3",
   "metadata": {},
   "outputs": [
    {
     "data": {
      "text/plain": [
       "10"
      ]
     },
     "execution_count": 62,
     "metadata": {},
     "output_type": "execute_result"
    }
   ],
   "source": [
    "x"
   ]
  },
  {
   "cell_type": "code",
   "execution_count": null,
   "id": "9caecf85",
   "metadata": {},
   "outputs": [],
   "source": []
  }
 ],
 "metadata": {
  "kernelspec": {
   "display_name": "Python 3",
   "language": "python",
   "name": "python3"
  },
  "language_info": {
   "codemirror_mode": {
    "name": "ipython",
    "version": 3
   },
   "file_extension": ".py",
   "mimetype": "text/x-python",
   "name": "python",
   "nbconvert_exporter": "python",
   "pygments_lexer": "ipython3",
   "version": "3.8.8"
  }
 },
 "nbformat": 4,
 "nbformat_minor": 5
}
