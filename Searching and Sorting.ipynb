{
 "cells": [
  {
   "cell_type": "markdown",
   "id": "08444fe9",
   "metadata": {},
   "source": [
    "Searching using simple for loop"
   ]
  },
  {
   "cell_type": "code",
   "execution_count": null,
   "id": "1cfb6c9e",
   "metadata": {},
   "outputs": [],
   "source": [
    "def Searching(a,k):\n",
    "    # Number of elements in a\n",
    "    N = len(a)\n",
    "    #Loop over \"a\" to find the key \"k\"\n",
    "    for i in range(N):\n",
    "        if (a[i]==k):\n",
    "            print(f\"Position of key {k} is :\")\n",
    "            return i\n",
    "    return \"There is no element same as key in the array\"\n",
    "        "
   ]
  },
  {
   "cell_type": "code",
   "execution_count": null,
   "id": "f44bbbbc",
   "metadata": {},
   "outputs": [],
   "source": [
    "Searching([2,4,1,5,8,9,-11,-6],10)"
   ]
  },
  {
   "cell_type": "code",
   "execution_count": null,
   "id": "0aaefb2d",
   "metadata": {},
   "outputs": [],
   "source": [
    "def BinarySearch(a,k,min,max):\n",
    "    # Now see whether key lies in right half or left half or at the middle point\n",
    "    # Middle point\n",
    "    while(min<= max):\n",
    "        \n",
    "        m = int((min + max)/2)\n",
    "        if (a[m]==k):\n",
    "            return f\"key {k} lies in the position : {m}\"\n",
    "        # Lies in the left half\n",
    "        elif (a[m]> k):\n",
    "            max = m-1\n",
    "            return BinarySearch(a,k,min,max)\n",
    "        #Lies in the right half\n",
    "        else:\n",
    "            min = m+1\n",
    "            return BinarySearch(a,k,min,max)\n",
    "    return \"Key not present in the array\"\n",
    "    \n",
    "    "
   ]
  },
  {
   "cell_type": "code",
   "execution_count": null,
   "id": "0fa878e0",
   "metadata": {},
   "outputs": [],
   "source": [
    "BinarySearch([1,2,3,4,5,6,7,8,9],9,0,8)"
   ]
  },
  {
   "cell_type": "markdown",
   "id": "0658f8eb",
   "metadata": {},
   "source": [
    "Where to put particular number if array is sorted"
   ]
  },
  {
   "cell_type": "code",
   "execution_count": null,
   "id": "273d442a",
   "metadata": {},
   "outputs": [],
   "source": [
    "def BinarySearch(a,k,min,max):\n",
    "    # Now see whether key lies in right half or left half or at the middle point\n",
    "    # Middle point\n",
    "    while(min < max):\n",
    "        \n",
    "        m = int((min + max)/2)\n",
    "        if (a[m]==k):\n",
    "            return f\"key {k} lies in the position : {m}\"\n",
    "        # Lies in the left half\n",
    "        elif (a[m]> k):\n",
    "            max = m-1\n",
    "            return BinarySearch(a,k,min,max)\n",
    "        #Lies in the right half\n",
    "        else:\n",
    "            min = m+1\n",
    "            return BinarySearch(a,k,min,max)\n",
    "    return f\"Put the number in {min} position\"\n",
    "     \n",
    "    "
   ]
  },
  {
   "cell_type": "code",
   "execution_count": null,
   "id": "2ef8a07f",
   "metadata": {},
   "outputs": [],
   "source": [
    "BinarySearch([1,2,3,4,5,6,7,8,9],11,0,8)"
   ]
  },
  {
   "cell_type": "markdown",
   "id": "77abf86c",
   "metadata": {},
   "source": [
    "### First  Occurence"
   ]
  },
  {
   "cell_type": "code",
   "execution_count": null,
   "id": "8a636678",
   "metadata": {},
   "outputs": [],
   "source": [
    "def BinarySearch(a,k,min,max):\n",
    "    # Now see whether key lies in right half or left half or at the middle point\n",
    "    # Middle point\n",
    "    while(min <= max):\n",
    "        # Now see whether key lies in right half or left half or at the middle point\n",
    "        # Middle point\n",
    "        m = int((min + max)/2)\n",
    "        if (m==0):\n",
    "            return f\"key {k} lies in the position : {m}\"\n",
    "        elif (a[m]==k and m!= 0):\n",
    "            if (a[m-1]<k ):\n",
    "                return f\"key {k} lies in the position : {m}\"\n",
    "            else:\n",
    "                max= m-1\n",
    "                return BinarySearch(a,k,min,max)\n",
    "#         elif (a[m]==k and m== 0):\n",
    "#               return f\"key {k} lies in the position : {m}\"  \n",
    "        # Lies in the left half\n",
    "        elif (a[m]> k):\n",
    "            max = m-1\n",
    "            return BinarySearch(a,k,min,max)\n",
    "        #Lies in the right half\n",
    "        else:\n",
    "            min = m+1\n",
    "            return BinarySearch(a,k,min,max)\n",
    "    return f\"Put the number in {min} position\"\n",
    "     \n",
    "    "
   ]
  },
  {
   "cell_type": "code",
   "execution_count": null,
   "id": "ff343646",
   "metadata": {},
   "outputs": [],
   "source": [
    "BinarySearch([0,0,1,1,1,1,2,2,2,2,2,2,3,3,3,3,3,4,5,6,7,8,9,10,11,111],0,0,8)"
   ]
  },
  {
   "cell_type": "markdown",
   "id": "8762751c",
   "metadata": {},
   "source": [
    "### Last occurence"
   ]
  },
  {
   "cell_type": "code",
   "execution_count": null,
   "id": "ea6f97a2",
   "metadata": {},
   "outputs": [],
   "source": [
    "def BinarySearch(a,k,min,max):\n",
    "    # Now see whether key lies in right half or left half or at the middle point\n",
    "    # Middle point\n",
    "    while(min <= max):\n",
    "        # Now see whether key lies in right half or left half or at the middle point\n",
    "        # Middle point\n",
    "        m = int((min + max)/2)\n",
    "        if (m==len(a)-1):\n",
    "            return f\"key {k} lies in the position : {m}\"\n",
    "        elif (a[m]==k):\n",
    "            if (a[m+1]>k ):\n",
    "                return f\"key {k} lies in the position : {m}\"\n",
    "            else:\n",
    "                min= m+1\n",
    "                return BinarySearch(a,k,min,max)\n",
    "\n",
    "        elif (a[m]> k):\n",
    "            max = m-1\n",
    "            return BinarySearch(a,k,min,max)\n",
    "        #Lies in the right half\n",
    "        else:\n",
    "            min = m+1\n",
    "            return BinarySearch(a,k,min,max)\n",
    "    return f\"Put the number in {min} position\"\n",
    "     \n",
    "    "
   ]
  },
  {
   "cell_type": "code",
   "execution_count": null,
   "id": "8256ecbf",
   "metadata": {},
   "outputs": [],
   "source": [
    "BinarySearch([0,0,1,1,1,1,2,2,2,2,2,2,3,3,3,3,3,4,5,6,7,8,9,10,11,11],11,0,25)"
   ]
  },
  {
   "cell_type": "markdown",
   "id": "fbfc65e8",
   "metadata": {},
   "source": [
    "### Frequency of a number"
   ]
  },
  {
   "cell_type": "markdown",
   "id": "f186c0ca",
   "metadata": {},
   "source": [
    "First we will calculate first occurence."
   ]
  },
  {
   "cell_type": "code",
   "execution_count": 29,
   "id": "ded91279",
   "metadata": {},
   "outputs": [],
   "source": [
    "def Firstoccurence(a,k,min,max):\n",
    "    # Now see whether key lies in right half or left half or at the middle point\n",
    "    # Middle point\n",
    "    while(min <= max):\n",
    "        # Now see whether key lies in right half or left half or at the middle point\n",
    "        # Middle point\n",
    "        m = int((min + max)/2)\n",
    "        if (m==0):\n",
    "            return m\n",
    "        elif (a[m]==k and m!= 0):\n",
    "            if (a[m-1]<k ):\n",
    "                return m\n",
    "            else:\n",
    "                max= m-1\n",
    "                return Firstoccurence(a,k,min,max)\n",
    "\n",
    "        elif (a[m]> k):\n",
    "            max = m-1\n",
    "            return Firstoccurence(a,k,min,max)\n",
    "        #Lies in the right half\n",
    "        else:\n",
    "            min = m+1\n",
    "            return Firstoccurence(a,k,min,max)\n",
    "    \n",
    "     \n",
    "    "
   ]
  },
  {
   "cell_type": "markdown",
   "id": "ac444082",
   "metadata": {},
   "source": [
    "Now we will calculate last occurence"
   ]
  },
  {
   "cell_type": "code",
   "execution_count": 30,
   "id": "14574e01",
   "metadata": {},
   "outputs": [],
   "source": [
    "def Lastoccurence(a,k,min,max):\n",
    "    # Now see whether key lies in right half or left half or at the middle point\n",
    "    # Middle point\n",
    "    while(min <= max):\n",
    "        # Now see whether key lies in right half or left half or at the middle point\n",
    "        # Middle point\n",
    "        m = int((min + max)/2)\n",
    "        if (m==len(a)-1):\n",
    "            return m\n",
    "        elif (a[m]==k):\n",
    "            if (a[m+1]>k ):\n",
    "                return m\n",
    "            else:\n",
    "                min= m+1\n",
    "                return Lastoccurence(a,k,min,max)\n",
    "\n",
    "        elif (a[m]> k):\n",
    "            max = m-1\n",
    "            return Lastoccurence(a,k,min,max)\n",
    "        #Lies in the right half\n",
    "        else:\n",
    "            min = m+1\n",
    "            return Lastoccurence(a,k,min,max)\n",
    "    \n",
    "     \n",
    "    "
   ]
  },
  {
   "cell_type": "code",
   "execution_count": 43,
   "id": "80af98f2",
   "metadata": {},
   "outputs": [
    {
     "data": {
      "text/plain": [
       "16"
      ]
     },
     "execution_count": 43,
     "metadata": {},
     "output_type": "execute_result"
    }
   ],
   "source": [
    "Lastoccurence([0,0,1,1,1,1,2,2,2,2,2,2,3,3,3,3,3,4,5,6,7,8,9,10,11,11,11,11,12,13,14],3,0,30)"
   ]
  },
  {
   "cell_type": "markdown",
   "id": "f727e027",
   "metadata": {},
   "source": [
    "Now we will define a function which uses `Firstoccurence` and `Lastoccurence` and throws out the freuqency of the number."
   ]
  },
  {
   "cell_type": "code",
   "execution_count": 44,
   "id": "5af54105",
   "metadata": {},
   "outputs": [],
   "source": [
    "def Count(a,k):\n",
    "    # Size of the array\n",
    "    min = 0\n",
    "    max = len(a)\n",
    "    # Calculate first occurence of the number\n",
    "    first_occurence =  Firstoccurence(a,k,min,max)\n",
    "    # Calculate first occurence of the number\n",
    "    last_occurence = Lastoccurence(a,k,min,max)\n",
    "    # Calculate the frequency\n",
    "    Freq = int(last_occurence) - int(first_occurence)\n",
    "    return Freq + 1 \n",
    "    "
   ]
  },
  {
   "cell_type": "code",
   "execution_count": 50,
   "id": "a2857cc6",
   "metadata": {},
   "outputs": [
    {
     "data": {
      "text/plain": [
       "2"
      ]
     },
     "execution_count": 50,
     "metadata": {},
     "output_type": "execute_result"
    }
   ],
   "source": [
    "Count([0,0,1,1,1,1,2,2,2,2,2,2,3,3,3,3,3,4,5,6,7,8,9,10,11,11,11,11,12,13,14],0)"
   ]
  },
  {
   "cell_type": "code",
   "execution_count": null,
   "id": "186269b6",
   "metadata": {},
   "outputs": [],
   "source": []
  }
 ],
 "metadata": {
  "kernelspec": {
   "display_name": "Python 3",
   "language": "python",
   "name": "python3"
  },
  "language_info": {
   "codemirror_mode": {
    "name": "ipython",
    "version": 3
   },
   "file_extension": ".py",
   "mimetype": "text/x-python",
   "name": "python",
   "nbconvert_exporter": "python",
   "pygments_lexer": "ipython3",
   "version": "3.8.8"
  }
 },
 "nbformat": 4,
 "nbformat_minor": 5
}
