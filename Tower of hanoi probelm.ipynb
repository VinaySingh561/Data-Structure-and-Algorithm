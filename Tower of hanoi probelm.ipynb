{
 "cells": [
  {
   "cell_type": "markdown",
   "id": "3faf674d",
   "metadata": {},
   "source": [
    "For detailed understanding of the problem please refer to [Tower of Hanoi](https://www.hackerearth.com/blog/developers/tower-hanoi-recursion-game-algorithm-explained/)"
   ]
  },
  {
   "cell_type": "code",
   "execution_count": 13,
   "id": "3148eb65",
   "metadata": {},
   "outputs": [],
   "source": [
    "def tower(n , from, to, aux ):\n",
    "    if (n==1):\n",
    "        print(\"Disk %d moved\" + from1 + 'to' + to  %n)\n",
    "        return 0\n",
    "    else:\n",
    "        return tower(n-1, from1, aux, to)\n",
    "        print(\"Disk %d moved\" + from1 + \"to\" + aux  %n-1 )"
   ]
  },
  {
   "cell_type": "code",
   "execution_count": 23,
   "id": "a9f658ef",
   "metadata": {},
   "outputs": [
    {
     "name": "stdout",
     "output_type": "stream",
     "text": [
      "Disk 2 moved from1 to aux\n",
      "Disk 1 moved from1 to to\n",
      "Disk 1 moved from1 to to\n"
     ]
    },
    {
     "data": {
      "text/plain": [
       "0"
      ]
     },
     "execution_count": 23,
     "metadata": {},
     "output_type": "execute_result"
    }
   ],
   "source": [
    "tower(3 , \"from1\", \"to\", \"aux\")"
   ]
  },
  {
   "cell_type": "code",
   "execution_count": 22,
   "id": "5bafd290",
   "metadata": {},
   "outputs": [],
   "source": [
    "def tower(n , fro , to, aux ):\n",
    "    if (n==1):\n",
    "        print(\"Disk \" + str(n) +\" moved \" + fro + ' to ' + to )\n",
    "        \n",
    "    else:\n",
    "        print(\"Disk \" +str(n-1)+ \" moved \" + fro + \" to \" + aux  )\n",
    "        tower(n-1, fro , aux, to)\n",
    "        \n",
    "        \n",
    "        "
   ]
  },
  {
   "cell_type": "code",
   "execution_count": 40,
   "id": "463ea104",
   "metadata": {},
   "outputs": [],
   "source": [
    "def tower_of_hanoi(n , source, auxiliarly, destination):\n",
    "    if (n==1):\n",
    "        print(\"Move Disk 1 from source \", source, \" to destination \", destination)\n",
    "        return\n",
    "    else:\n",
    "        tower_of_hanoi(n-1, source, destination, auxiliarly)\n",
    "        print(\"Move disk\", n ,\"from source \", source, \" to destination \", destination)\n",
    "        tower_of_hanoi(n-1, auxiliarly, source, destination)\n",
    "            "
   ]
  },
  {
   "cell_type": "code",
   "execution_count": 42,
   "id": "6184319c",
   "metadata": {},
   "outputs": [
    {
     "name": "stdout",
     "output_type": "stream",
     "text": [
      "Move Disk 1 from source  A  to destination  C\n",
      "Move disk 2 from source  A  to destination  B\n",
      "Move Disk 1 from source  C  to destination  B\n",
      "Move disk 3 from source  A  to destination  C\n",
      "Move Disk 1 from source  B  to destination  A\n",
      "Move disk 2 from source  B  to destination  C\n",
      "Move Disk 1 from source  A  to destination  C\n"
     ]
    }
   ],
   "source": [
    "tower_of_hanoi(3, \"A\", \"B\", \"C\")"
   ]
  },
  {
   "cell_type": "code",
   "execution_count": null,
   "id": "b870ac77",
   "metadata": {},
   "outputs": [],
   "source": []
  }
 ],
 "metadata": {
  "kernelspec": {
   "display_name": "Python 3",
   "language": "python",
   "name": "python3"
  },
  "language_info": {
   "codemirror_mode": {
    "name": "ipython",
    "version": 3
   },
   "file_extension": ".py",
   "mimetype": "text/x-python",
   "name": "python",
   "nbconvert_exporter": "python",
   "pygments_lexer": "ipython3",
   "version": "3.8.8"
  }
 },
 "nbformat": 4,
 "nbformat_minor": 5
}
