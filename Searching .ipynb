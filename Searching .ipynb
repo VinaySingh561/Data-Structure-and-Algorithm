{
 "cells": [
  {
   "cell_type": "markdown",
   "id": "674ea47b",
   "metadata": {},
   "source": [
    "### Problem -1 "
   ]
  },
  {
   "cell_type": "markdown",
   "id": "e712ca4a",
   "metadata": {},
   "source": [
    "Find out the number in an sorted array "
   ]
  },
  {
   "cell_type": "code",
   "execution_count": 20,
   "id": "906cc5c2",
   "metadata": {},
   "outputs": [
    {
     "name": "stdout",
     "output_type": "stream",
     "text": [
      "Wall time: 0 ns\n",
      "33\n",
      "0.0\n"
     ]
    }
   ],
   "source": [
    "a = range(100000000000000000)\n",
    "import time\n",
    "#Find out the position of 5 in minimum time [ Logn]\n",
    "%time\n",
    "a1 = time.time()\n",
    "l = 0\n",
    "h = len(a)\n",
    "while(l<= h):\n",
    "    m = int((l+h)/2)\n",
    "    if (a[m] < 33):\n",
    "        l = m+1\n",
    "    elif (a[m] > 33):\n",
    "        h = m-1\n",
    "    else:\n",
    "        break\n",
    "print(m)        \n",
    "a2 = time.time()\n",
    "print(a2-a1)"
   ]
  },
  {
   "cell_type": "code",
   "execution_count": 22,
   "id": "b8a9df83",
   "metadata": {},
   "outputs": [
    {
     "data": {
      "text/plain": [
       "1656088862.2038531"
      ]
     },
     "execution_count": 22,
     "metadata": {},
     "output_type": "execute_result"
    }
   ],
   "source": [
    "a1"
   ]
  },
  {
   "cell_type": "code",
   "execution_count": 23,
   "id": "e0cba914",
   "metadata": {},
   "outputs": [
    {
     "data": {
      "text/plain": [
       "1656088862.2038531"
      ]
     },
     "execution_count": 23,
     "metadata": {},
     "output_type": "execute_result"
    }
   ],
   "source": [
    "a2"
   ]
  },
  {
   "cell_type": "code",
   "execution_count": null,
   "id": "7aa9e70b",
   "metadata": {},
   "outputs": [],
   "source": []
  }
 ],
 "metadata": {
  "kernelspec": {
   "display_name": "Python 3",
   "language": "python",
   "name": "python3"
  },
  "language_info": {
   "codemirror_mode": {
    "name": "ipython",
    "version": 3
   },
   "file_extension": ".py",
   "mimetype": "text/x-python",
   "name": "python",
   "nbconvert_exporter": "python",
   "pygments_lexer": "ipython3",
   "version": "3.8.8"
  }
 },
 "nbformat": 4,
 "nbformat_minor": 5
}
